{
 "cells": [
  {
   "attachments": {},
   "cell_type": "markdown",
   "metadata": {},
   "source": [
    "### Clean data"
   ]
  },
  {
   "cell_type": "code",
   "execution_count": null,
   "metadata": {},
   "outputs": [],
   "source": [
    "import pandas as pd\n",
    "import matplotlib.pyplot as plt\n",
    "\n",
    "file = open(\"eStoreData.csv\",\"r\")\n",
    "file = file.readlines()\n",
    "\n",
    "cleanFileData = []\n",
    "badFileData = []\n",
    "\n",
    "for line in file:\n",
    "    line.count(\",\")+1\n",
    "    if line.count(\",\") == 9:\n",
    "        cleanFileData.append(line)\n",
    "    else:\n",
    "        badFileData.append(line)\n",
    "\n",
    "for line in badFileData:\n",
    "    print(line)\n",
    "    \n",
    "cleanData = open(\"eStoreCleanData.csv\",\"w\")\n",
    "for line in cleanFileData:\n",
    "    cleanData.write(line)\n",
    "cleanData.close()\n"
   ]
  },
  {
   "attachments": {},
   "cell_type": "markdown",
   "metadata": {},
   "source": [
    "\n",
    "### read csv and make dataframe\n"
   ]
  },
  {
   "cell_type": "code",
   "execution_count": null,
   "metadata": {},
   "outputs": [],
   "source": [
    "df = pd.read_csv(\"eStoreCleanData.csv\",header=0)\n",
    "\n",
    "print(df)"
   ]
  },
  {
   "attachments": {},
   "cell_type": "markdown",
   "metadata": {},
   "source": [
    "### find sum of all purchases in each department"
   ]
  },
  {
   "cell_type": "code",
   "execution_count": null,
   "metadata": {},
   "outputs": [],
   "source": [
    "departmentList = df.department.unique()\n",
    "totalCost = []\n",
    "\n",
    "for department in departmentList:\n",
    "    totalCost.append(df[df[\"department\"]==department][\"cost\"].sum())\n",
    "    \n",
    "purchases = pd.DataFrame(list(zip(departmentList,totalCost)),columns=[\"department\",\"total\"])\n",
    "\n",
    "print(purchases)\n",
    "\n",
    "\n",
    "\n"
   ]
  },
  {
   "attachments": {},
   "cell_type": "markdown",
   "metadata": {},
   "source": [
    "### top five and bottom five purchases"
   ]
  },
  {
   "cell_type": "code",
   "execution_count": null,
   "metadata": {},
   "outputs": [],
   "source": [
    "\n",
    "totalAmounts = pd.DataFrame(purchases.sort_values(by=[\"total\"]))\n",
    "bottomFive = totalAmounts.head(5)\n",
    "\n",
    "for values in bottomFive.itertuples():\n",
    "    department = values[1]\n",
    "    cost = values[2]\n",
    "    index = values[0]\n",
    "    plt.bar(values[1],values[2])\n",
    "    plt.plot(department,cost,label=department)\n",
    "\n",
    "plt.xlabel(\"Department\")\n",
    "plt.ylabel(\"Total Amount Spent ( in $)\")\n",
    "plt.title(\"Bottom 5 department totals\")\n",
    "plt.legend(bbox_to_anchor=(1.5,1.05))\n",
    "plt.show()\n",
    "\n",
    "\n",
    "totalAmounts = pd.DataFrame(purchases.sort_values(by=[\"total\"],ascending=False))\n",
    "\n",
    "topFive = totalAmounts.head(5)\n",
    "\n",
    "for values in topFive.itertuples():\n",
    "    department = values[1]\n",
    "    cost = values[2]\n",
    "    index = values[0]\n",
    "    plt.bar(values[1],values[2])\n",
    "    plt.plot(department,cost,label=department)\n",
    "\n",
    "plt.xlabel(\"Department\")\n",
    "plt.ylabel(\"Total Amount Spent ( in $)\")\n",
    "plt.title(\"Top 5 department totals\")\n",
    "plt.legend(bbox_to_anchor=(1.5,1.05))\n",
    "plt.show()\n",
    "\n"
   ]
  },
  {
   "attachments": {},
   "cell_type": "markdown",
   "metadata": {},
   "source": [
    "### run thru and get rid of fake ips and rerun code\n",
    "- fake ips start w/ 0,192,127,255"
   ]
  },
  {
   "cell_type": "code",
   "execution_count": null,
   "metadata": {},
   "outputs": [],
   "source": [
    "ipList = df.ip.unique()\n",
    "for ip in ipList:\n",
    "    check = ip[0:ip.index(\".\")]\n",
    "    if check == \"0\" or check == \"192\" or check == \"127\" or check == \"255\":\n",
    "        df.dropna(subset=[\"ip\"],inplace=True)\n",
    "        print(check)\n",
    "        \n",
    "        \n",
    "    \n"
   ]
  },
  {
   "attachments": {},
   "cell_type": "markdown",
   "metadata": {},
   "source": [
    "### total student purchases"
   ]
  },
  {
   "cell_type": "code",
   "execution_count": null,
   "metadata": {},
   "outputs": [],
   "source": [
    "students = []\n",
    "emails = df.email.unique()\n",
    "\n",
    "\n",
    "for email in emails:\n",
    "    check = email[email.index(\"@\"):]\n",
    "    check2 = check[check.index(\".\"):]\n",
    "    if check2 == \".edu\":\n",
    "        students.append(email)\n",
    "studentlist = []\n",
    "\n",
    "\n",
    "for email in students:\n",
    "    department = list(df[df[\"email\"]==email][\"department\"])\n",
    "    total = int(df[df[\"email\"]==email][\"cost\"])\n",
    "    studentlist.append([department[0],total])\n",
    "print(f\"a total of {len(studentlist)} students made purchases\")\n",
    "studentStud = pd.DataFrame(studentlist,columns=[\"department\",\"totals\"])\n",
    "\n",
    "totalCost = []\n",
    "totalStudents = []\n",
    "for department in departmentList:\n",
    "\n",
    "    totalCost.append(studentStud[studentStud[\"department\"]==department][\"totals\"].sum())\n",
    "\n",
    "for i in totalCost:\n",
    "    department = (departmentList[totalCost.index(i)])\n",
    "    plt.bar(department,i,label=department)\n",
    "    print(i)\n",
    "    plt.plot(department,i)\n",
    "\n",
    "\n",
    "plt.xlabel(\"department\")\n",
    "plt.ylabel(\"total spent by students (in $)\")\n",
    "plt.title(\"Total spent by student  from each Department\")\n",
    "plt.legend(bbox_to_anchor=(1.5,1.05))\n",
    "plt.show()\n",
    "    "
   ]
  },
  {
   "attachments": {},
   "cell_type": "markdown",
   "metadata": {},
   "source": [
    "### which credit card company was used more\n",
    "- mastercard or visa"
   ]
  },
  {
   "cell_type": "code",
   "execution_count": null,
   "metadata": {},
   "outputs": [],
   "source": [
    "masterCards = 0\n",
    "visaCards = 0\n",
    "\n",
    "for item in df.itertuples():\n",
    "    # print(card)\n",
    "    card = str(item[7])\n",
    "    if card[0] == \"5\":\n",
    "        masterCards+=1\n",
    "        print(f\"{card} is a mastercard\")\n",
    "    elif card[0] == \"4\":\n",
    "        visaCards+=1\n",
    "        print(f\"{card} is a visa card\")\n",
    "    else:\n",
    "        \"This is not a master nor visa card\"\n",
    "# print(card)\n",
    "print(masterCards)\n",
    "print(visaCards)\n",
    "        "
   ]
  },
  {
   "attachments": {},
   "cell_type": "markdown",
   "metadata": {},
   "source": [
    "### baby and toy store phone numbers"
   ]
  },
  {
   "cell_type": "code",
   "execution_count": null,
   "metadata": {},
   "outputs": [],
   "source": [
    "textThese = []\n",
    "\n",
    "for values in df.itertuples():\n",
    "    if values[9] == \"Baby\" or values[9] ==\"Toys\":\n",
    "        department = values[9]\n",
    "        number = values[5]\n",
    "        notifs = values[6]\n",
    "        # print(notifs)\n",
    "        if notifs == \"TRUE\":\n",
    "            textThese.append(number)\n",
    "\n",
    "print(\"here text these numbers\")\n",
    "for num in textThese:\n",
    "    print(f\"\\t{num}\")\n"
   ]
  },
  {
   "attachments": {},
   "cell_type": "markdown",
   "metadata": {},
   "source": [
    "### top 3 purchasers\n",
    "- how much did they spend\n",
    "- in which departments did they spend"
   ]
  },
  {
   "cell_type": "code",
   "execution_count": null,
   "metadata": {},
   "outputs": [],
   "source": [
    "companies = df.company.unique()\n",
    "total = []\n",
    "# print(len(companies))\n",
    "\n",
    "for company in companies:\n",
    "    dep = df[df[\"company\"]==company][\"department\"]\n",
    "    costs = df[df[\"company\"]==company][\"cost\"]\n",
    "    total.append([company,df[df[\"company\"]==company][\"cost\"].sum()])\n",
    "     \n",
    "purchases = pd.DataFrame(df.sort_values(by=[\"email\",\"cost\"]))\n",
    "\n",
    "\n",
    "\n",
    "firstThree = pd.DataFrame(purchases.head(3))\n",
    "\n",
    "print(firstThree)\n",
    "\n",
    "for items in firstThree.itertuples():\n",
    "    total = items[8]\n",
    "    department = items[9]\n",
    "    company = items[10]\n",
    "    plt.bar(items[9],items[8],label=company)\n",
    "    plt.plot(department,total)\n",
    "    \n",
    "plt.xlabel(\"Department\")\n",
    "plt.ylabel(\"Total in $\")\n",
    "plt.title(\"Top 3 Departments Purchasers\")\n",
    "plt.legend(bbox_to_anchor=(1.5,1.05))\n",
    "plt.show()"
   ]
  },
  {
   "attachments": {},
   "cell_type": "markdown",
   "metadata": {},
   "source": [
    "### how many hoosiers purchased"
   ]
  },
  {
   "cell_type": "code",
   "execution_count": null,
   "metadata": {},
   "outputs": [],
   "source": [
    "indianaCount = 0\n",
    "indianaPurchase = []\n",
    "\n",
    "indianaCount = df.state.str.count(\"Indiana\").sum()\n",
    "\n",
    "print(f\"hoosier count: {indianaCount}\")\n",
    "\n",
    "for values in df.itertuples():\n",
    "    \n",
    "    if values[4] == \"Indiana\":\n",
    "        department = values[9]\n",
    "        cost = values[8]\n",
    "        \n",
    "        indianaPurchase.append([department,cost])\n",
    "\n",
    "purchasesIN = pd.DataFrame(indianaPurchase,columns=[\"department\",\"total\"])\n",
    "\n",
    "# print(purchasesIN)\n",
    "\n",
    "spentAmount = []\n",
    "\n",
    "for department in departmentList:\n",
    "    \n",
    "    spenty = purchasesIN[purchasesIN[\"department\"]==department][\"total\"].sum()\n",
    "    \n",
    "    spentAmount.append([(round(spenty,2)),department])\n",
    "# spendometer = pd.DataFrame(totals,columns=[\"department\",\"total\"])\n",
    "\n",
    "\n",
    "\n",
    "for t in spentAmount:\n",
    "    \n",
    "    print(f\"${t[0]} in {t[1]}\")\n",
    "    department = t[1]\n",
    "    cost = t[0]\n",
    "    \n",
    "    plt.bar(t[1],t[0],label=department)\n",
    "    plt.plot(department,cost)\n",
    "\n",
    "plt.xlabel(\"Department\")\n",
    "plt.ylabel(\"Total (in $)\")\n",
    "plt.title(\"How much Hoosiers Spent in Every Department\")\n",
    "plt.legend(bbox_to_anchor=(1.5,1.05))\n",
    "plt.show()\n",
    "    \n",
    "    \n",
    "    "
   ]
  }
 ],
 "metadata": {
  "kernelspec": {
   "display_name": "Python 3",
   "language": "python",
   "name": "python3"
  },
  "language_info": {
   "codemirror_mode": {
    "name": "ipython",
    "version": 3
   },
   "file_extension": ".py",
   "mimetype": "text/x-python",
   "name": "python",
   "nbconvert_exporter": "python",
   "pygments_lexer": "ipython3",
   "version": "3.11.2"
  },
  "orig_nbformat": 4
 },
 "nbformat": 4,
 "nbformat_minor": 2
}
