{
 "cells": [
  {
   "cell_type": "code",
   "execution_count": 3,
   "id": "ca3abafd",
   "metadata": {},
   "outputs": [],
   "source": [
    "import glob"
   ]
  },
  {
   "cell_type": "code",
   "execution_count": 1,
   "id": "1c681f23",
   "metadata": {},
   "outputs": [],
   "source": [
    "#open the original file\n",
    "file = open(\"Original Data/book1.txt\",\"r\", encoding=\"utf8\")\n",
    "wordToFind = \"Gandalf\"\n",
    "file=file.readlines()"
   ]
  },
  {
   "cell_type": "code",
   "execution_count": 14,
   "id": "11c7f603",
   "metadata": {},
   "outputs": [
    {
     "name": "stdout",
     "output_type": "stream",
     "text": [
      "15260\n"
     ]
    }
   ],
   "source": [
    "#removing the blank spaces\n",
    "print(len(file))"
   ]
  },
  {
   "cell_type": "code",
   "execution_count": 16,
   "id": "36666d02",
   "metadata": {},
   "outputs": [
    {
     "name": "stdout",
     "output_type": "stream",
     "text": [
      "10144\n"
     ]
    }
   ],
   "source": [
    "#loop through file\n",
    "newFile=[]\n",
    "for i in range(len(file)):\n",
    "#check to see if a blank space or \\n\n",
    "    if not file[i]==\"\\n\":\n",
    "        newFile.append(file[i])\n",
    "print(len(newFile))"
   ]
  },
  {
   "cell_type": "code",
   "execution_count": 18,
   "id": "1d6e2cb1",
   "metadata": {},
   "outputs": [
    {
     "name": "stdout",
     "output_type": "stream",
     "text": [
      "5116\n"
     ]
    }
   ],
   "source": [
    "print(len(file)-len(newFile))"
   ]
  },
  {
   "cell_type": "code",
   "execution_count": 22,
   "id": "5bd1235b",
   "metadata": {},
   "outputs": [],
   "source": [
    "#save the data\n",
    "cleanFile = open(\"Clean Data/Clean-book1.txt\",\"w\", encoding=\"utf8\")\n",
    "for eachLine in newFile:\n",
    "    cleanFile.write(eachLine)\n",
    "cleanFile.close()"
   ]
  },
  {
   "cell_type": "code",
   "execution_count": 15,
   "id": "820e7e57",
   "metadata": {},
   "outputs": [
    {
     "name": "stdout",
     "output_type": "stream",
     "text": [
      "[\"1 - The Philosopher's Stone\", '2 - The Chamber of Secrets', '3 - The Prisoner of Azkaban', '4 - The Goblet of Fire', '5 - The Order of the Phoenix', '6 - The Half Blood Prince', '7 - The Deathly Hallows']\n"
     ]
    }
   ],
   "source": [
    "books = glob.glob(\"Original Data/*.txt\")\n",
    "bookList=[]\n",
    "for b in books:\n",
    "    bookList.append(b[19:b.index(\".\")])\n",
    "print(bookList)"
   ]
  },
  {
   "cell_type": "code",
   "execution_count": 23,
   "id": "d96f15b7",
   "metadata": {},
   "outputs": [],
   "source": [
    "def cleanTheFile(name):\n",
    "    #open the original file\n",
    "    file = open(f\"Original Data/Book {name}.txt\",\"r\", encoding=\"utf8\")\n",
    "    wordToFind = \"Gandalf\"\n",
    "    file=file.readlines()\n",
    "\n",
    "    #loop through file\n",
    "    newFile=[]\n",
    "    for i in range(len(file)):\n",
    "    #check to see if a blank space or \\n\n",
    "        if not file[i]==\"\\n\":\n",
    "            newFile.append(file[i])\n",
    "\n",
    "    print(len(file)-len(newFile))\n",
    "    #save the data\n",
    "    cleanFile = open(f\"Clean Data/Clean-{name}.txt\",\"w\", encoding=\"utf8\")\n",
    "    for eachLine in newFile:\n",
    "        cleanFile.write(eachLine)\n",
    "    cleanFile.close()"
   ]
  },
  {
   "cell_type": "code",
   "execution_count": 21,
   "id": "387ab190",
   "metadata": {},
   "outputs": [
    {
     "name": "stdout",
     "output_type": "stream",
     "text": [
      "5116\n",
      "5508\n",
      "7113\n",
      "12292\n",
      "15582\n",
      "10121\n",
      "12132\n",
      "Finished Cleaning\n"
     ]
    }
   ],
   "source": [
    "for eachBook in bookList:\n",
    "    cleanTheFile(eachBook)\n",
    "print(\"Finished Cleaning\")"
   ]
  },
  {
   "cell_type": "code",
   "execution_count": 24,
   "id": "fe3674d5",
   "metadata": {},
   "outputs": [],
   "source": [
    "def CTRLF(fileName):\n",
    "    file = open(f\"Clean Data/Clean-{filename}.txt\",\"r\",encoding=\"utf8\")\n",
    "    file = file.readlines()\n",
    "    wordToFind = {\"Harry\":0,\n",
    "                    \"Ron\":0,\n",
    "                    \"Albus\":0,\n",
    "                  \"Draco\":0,\n",
    "                  \"Hermione\":0,\n",
    "                  \"Hagrid\":0}\n",
    "    total = 0\n",
    "    # read file\n",
    "\n",
    "\n",
    "    for eachName in wordToFind:\n",
    "        total = 0\n",
    "        for line in file:\n",
    "            wordsInALine = line.split(\" \")\n",
    "            # print(wordsInALine)\n",
    "            for eachWord in wordsInALine:\n",
    "                if eachName in eachWord:\n",
    "                    wordToFind[name]+=1 \n",
    "\n",
    "    for name,instances in wordToFind.items():\n",
    "        print(f\"Total instances of {name}: {instances}\")"
   ]
  },
  {
   "cell_type": "code",
   "execution_count": 25,
   "id": "47589e10",
   "metadata": {},
   "outputs": [
    {
     "name": "stdout",
     "output_type": "stream",
     "text": [
      "[\"1 - The Philosopher's Stone\", '2 - The Chamber of Secrets', '3 - The Prisoner of Azkaban', '4 - The Goblet of Fire', '5 - The Order of the Phoenix', '6 - The Half Blood Prince', '7 - The Deathly Hallows', 'book1']\n",
      "1 - The Philosopher's Stone\n"
     ]
    },
    {
     "ename": "NameError",
     "evalue": "name 'filename' is not defined",
     "output_type": "error",
     "traceback": [
      "\u001b[1;31m---------------------------------------------------------------------------\u001b[0m",
      "\u001b[1;31mNameError\u001b[0m                                 Traceback (most recent call last)",
      "Cell \u001b[1;32mIn[25], line 8\u001b[0m\n\u001b[0;32m      6\u001b[0m \u001b[38;5;28;01mfor\u001b[39;00m eachCleanBookName \u001b[38;5;129;01min\u001b[39;00m cleanBookList:\n\u001b[0;32m      7\u001b[0m     \u001b[38;5;28mprint\u001b[39m(eachCleanBookName)\n\u001b[1;32m----> 8\u001b[0m     \u001b[43mCTRLF\u001b[49m\u001b[43m(\u001b[49m\u001b[43meachCleanBookName\u001b[49m\u001b[43m)\u001b[49m\n",
      "Cell \u001b[1;32mIn[24], line 2\u001b[0m, in \u001b[0;36mCTRLF\u001b[1;34m(fileName)\u001b[0m\n\u001b[0;32m      1\u001b[0m \u001b[38;5;28;01mdef\u001b[39;00m \u001b[38;5;21mCTRLF\u001b[39m(fileName):\n\u001b[1;32m----> 2\u001b[0m     file \u001b[38;5;241m=\u001b[39m \u001b[38;5;28mopen\u001b[39m(\u001b[38;5;124mf\u001b[39m\u001b[38;5;124m\"\u001b[39m\u001b[38;5;124mClean Data/Clean-\u001b[39m\u001b[38;5;132;01m{\u001b[39;00m\u001b[43mfilename\u001b[49m\u001b[38;5;132;01m}\u001b[39;00m\u001b[38;5;124m.txt\u001b[39m\u001b[38;5;124m\"\u001b[39m,\u001b[38;5;124m\"\u001b[39m\u001b[38;5;124mr\u001b[39m\u001b[38;5;124m\"\u001b[39m,encoding\u001b[38;5;241m=\u001b[39m\u001b[38;5;124m\"\u001b[39m\u001b[38;5;124mutf8\u001b[39m\u001b[38;5;124m\"\u001b[39m)\n\u001b[0;32m      3\u001b[0m     file \u001b[38;5;241m=\u001b[39m file\u001b[38;5;241m.\u001b[39mreadlines()\n\u001b[0;32m      4\u001b[0m     wordToFind \u001b[38;5;241m=\u001b[39m {\u001b[38;5;124m\"\u001b[39m\u001b[38;5;124mHarry\u001b[39m\u001b[38;5;124m\"\u001b[39m:\u001b[38;5;241m0\u001b[39m,\n\u001b[0;32m      5\u001b[0m                     \u001b[38;5;124m\"\u001b[39m\u001b[38;5;124mRon\u001b[39m\u001b[38;5;124m\"\u001b[39m:\u001b[38;5;241m0\u001b[39m,\n\u001b[0;32m      6\u001b[0m                     \u001b[38;5;124m\"\u001b[39m\u001b[38;5;124mAlbus\u001b[39m\u001b[38;5;124m\"\u001b[39m:\u001b[38;5;241m0\u001b[39m,\n\u001b[0;32m      7\u001b[0m                   \u001b[38;5;124m\"\u001b[39m\u001b[38;5;124mDraco\u001b[39m\u001b[38;5;124m\"\u001b[39m:\u001b[38;5;241m0\u001b[39m,\n\u001b[0;32m      8\u001b[0m                   \u001b[38;5;124m\"\u001b[39m\u001b[38;5;124mHermione\u001b[39m\u001b[38;5;124m\"\u001b[39m:\u001b[38;5;241m0\u001b[39m,\n\u001b[0;32m      9\u001b[0m                   \u001b[38;5;124m\"\u001b[39m\u001b[38;5;124mHagrid\u001b[39m\u001b[38;5;124m\"\u001b[39m:\u001b[38;5;241m0\u001b[39m}\n",
      "\u001b[1;31mNameError\u001b[0m: name 'filename' is not defined"
     ]
    }
   ],
   "source": [
    "books = glob.glob(\"Clean Data/*.txt\")\n",
    "cleanBookList=[]\n",
    "for b in books:\n",
    "    cleanBookList.append(b[b.index(\"-\")+1:b.index(\".\")])\n",
    "print(cleanBookList)\n",
    "for eachCleanBookName in cleanBookList:\n",
    "    print(eachCleanBookName)\n",
    "    CTRLF(eachCleanBookName)\n"
   ]
  }
 ],
 "metadata": {
  "kernelspec": {
   "display_name": "Python 3 (ipykernel)",
   "language": "python",
   "name": "python3"
  },
  "language_info": {
   "codemirror_mode": {
    "name": "ipython",
    "version": 3
   },
   "file_extension": ".py",
   "mimetype": "text/x-python",
   "name": "python",
   "nbconvert_exporter": "python",
   "pygments_lexer": "ipython3",
   "version": "3.10.7"
  }
 },
 "nbformat": 4,
 "nbformat_minor": 5
}
